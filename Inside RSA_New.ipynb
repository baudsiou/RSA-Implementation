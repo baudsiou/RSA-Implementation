{
 "cells": [
  {
   "cell_type": "markdown",
   "metadata": {},
   "source": [
    "# INSIDE RSA"
   ]
  },
  {
   "cell_type": "markdown",
   "metadata": {},
   "source": [
    "(i) Computing the gcd; (ii) Computing the modular multiplicative inverse (when it exists); (iii) Encryption/Decryption with Textbook RSA; (iv) Signature with Full-Domain Hash"
   ]
  },
  {
   "cell_type": "code",
   "execution_count": 1,
   "metadata": {},
   "outputs": [],
   "source": [
    "from functools import reduce\n",
    "import random\n",
    "from Crypto.Util import number\n",
    "from hashlib import sha256\n",
    "from base64 import b64encode, b64decode\n"
   ]
  },
  {
   "cell_type": "markdown",
   "metadata": {},
   "source": [
    "(i) Computing the gcd"
   ]
  },
  {
   "cell_type": "markdown",
   "metadata": {},
   "source": [
    "#### NEW GCD"
   ]
  },
  {
   "cell_type": "code",
   "execution_count": 2,
   "metadata": {},
   "outputs": [],
   "source": [
    "#Implement the Greatest Common Divisor (gcd) for any list of numbers\n",
    "\n",
    "''' \n",
    "a,b: A list of numbers given as an input\n",
    "\n",
    "gcd function:\n",
    "In case we have 2 numbers as an input, we return\n",
    "the (greatest) number until the division between him \n",
    "and the other has zero remainder.\n",
    "\n",
    "Output : return (g, x, y) such that a*x + b*y = g = gcd(x, y)\n",
    "\n",
    "'''\n",
    "\n",
    "def egcd(a, b):\n",
    "    if a == 0:\n",
    "        return b, 0, 1\n",
    "    else:\n",
    "        g, y, x = egcd(b % a, a)\n",
    "        return g, x - (b // a) * y, y\n",
    "\n"
   ]
  },
  {
   "cell_type": "code",
   "execution_count": 4,
   "metadata": {},
   "outputs": [
    {
     "name": "stdout",
     "output_type": "stream",
     "text": [
      "the gcd of 4 and 2 is 2\n"
     ]
    }
   ],
   "source": [
    "a = 4\n",
    "b = 2\n",
    "print('the gcd of',a,'and',b,'is',egcd(a,b)[0])\n"
   ]
  },
  {
   "cell_type": "markdown",
   "metadata": {},
   "source": [
    "(ii) Computing the modular multiplicative inverse (when it exists)"
   ]
  },
  {
   "cell_type": "markdown",
   "metadata": {},
   "source": [
    "#### INVERSE"
   ]
  },
  {
   "cell_type": "code",
   "execution_count": 3,
   "metadata": {},
   "outputs": [],
   "source": [
    "'''\n",
    "Via the Extended Euclidean GCD algorithm\n",
    "p : a positive integer (the divisor)\n",
    "q : a positive integer (the dividend)\n",
    "Given (p,q) we compute the inverse of x if it exists.\n",
    "\n",
    "'''\n",
    "def inverse_rsa(p,q):\n",
    "    g, x, y = egcd(p, q)\n",
    "    if g != 1:\n",
    "        raise Exception('modular inverse does not exist')\n",
    "    else:\n",
    "        return x % q"
   ]
  },
  {
   "cell_type": "code",
   "execution_count": 7,
   "metadata": {},
   "outputs": [
    {
     "name": "stdout",
     "output_type": "stream",
     "text": [
      "The modular multiplicative inverse of 9 and 7 is 4\n"
     ]
    }
   ],
   "source": [
    "p = 9\n",
    "q = 7\n",
    "print('The modular multiplicative inverse of',p,'and',q,'is',inverse_rsa(9,7))"
   ]
  },
  {
   "cell_type": "code",
   "execution_count": 24,
   "metadata": {},
   "outputs": [],
   "source": [
    "#a = 108 ** 151\n",
    "#m = 22499"
   ]
  },
  {
   "cell_type": "code",
   "execution_count": 25,
   "metadata": {},
   "outputs": [],
   "source": [
    "#%timeit inverse_rsa (a ,m)"
   ]
  },
  {
   "cell_type": "markdown",
   "metadata": {},
   "source": [
    " (iii) Encryption/Decryption with Textbook RSA"
   ]
  },
  {
   "cell_type": "markdown",
   "metadata": {},
   "source": [
    "INPUT: Security parameter l\n",
    "OUTPUT: RSA public key e, private key d and n\n",
    "1. Randomly select two primes p and q with same bitlength l/2\n",
    "2. Compute n = pq and phi = (p-1)(q-1)\n",
    "3. Select an arbitrary integer e with 1 < e < phi and gcd(e, phi)==1\n",
    "4. Compute the integer d satisfying 1 < d < phi and ed == 1 mod phi\n",
    "5. Return(n, e, d)\n",
    "\n",
    "\n",
    "Algorithm 1.2: Basic RSA encryption\n",
    "INPUT: RSA public key e, n, plaintext m\n",
    "OUTPUT: Ciphertext c\n",
    "1. Compute c = m**e mod n\n",
    "2. Return(c)\n",
    "Algorithm 1.3: Basic RSA decryption\n",
    "INPUT: RSA private d, n, ciphertext c\n",
    "OUTPUT: Plaintext m\n",
    "1. Compute m = c**d mod n\n",
    "2. Return(m)"
   ]
  },
  {
   "cell_type": "code",
   "execution_count": 4,
   "metadata": {},
   "outputs": [],
   "source": [
    "#Generate random prime numbers with specific length of bits\n",
    "\n",
    "def prime_gen(bit_length):\n",
    "    #random.seed(123)\n",
    "    bits = bit_length//2\n",
    "    prime = number.getPrime(bits)\n",
    "    return (prime)"
   ]
  },
  {
   "cell_type": "markdown",
   "metadata": {},
   "source": [
    "### Construct the φ(Ν) function"
   ]
  },
  {
   "cell_type": "code",
   "execution_count": 5,
   "metadata": {},
   "outputs": [],
   "source": [
    "#We choose the encryption \"e\" such that gcd(e,φ(N))=1\n",
    "'''\n",
    "Input : the value of \"φ\" function\n",
    "Output : the encryption \"e\"\n",
    "We randomly pick a candidate number less than φ(Ν)\n",
    "and check if the gcd(e,φ(N))=1\n",
    "'''\n",
    "\n",
    "\n",
    "def encrypt_pow(phi_N):\n",
    "    while True:\n",
    "        e = random.randrange(1,phi_N)\n",
    "        if egcd(e, phi_N)[0] == 1:\n",
    "            return(e)\n",
    "            break\n",
    "                 \n",
    "             "
   ]
  },
  {
   "cell_type": "code",
   "execution_count": 27,
   "metadata": {},
   "outputs": [
    {
     "data": {
      "text/plain": [
       "2"
      ]
     },
     "execution_count": 27,
     "metadata": {},
     "output_type": "execute_result"
    }
   ],
   "source": [
    "encrypt_pow(15)"
   ]
  },
  {
   "cell_type": "code",
   "execution_count": 6,
   "metadata": {},
   "outputs": [],
   "source": [
    "# Generate the public key and the private key\n",
    "\n",
    "'''\n",
    "Input : number of bits which will define the prime bitlength\n",
    "Output: The primes (p,q),their product (N) and the function phi_N\n",
    "\n",
    "'''\n",
    "def Key_Generation(bits):\n",
    "    # Randomly select 2 primes with same Bitlength l/2\n",
    "    p = prime_gen(bits)\n",
    "    q = prime_gen(bits)\n",
    "    # Compute\n",
    "    N = p * q\n",
    "    phi_N = (p - 1) * (q - 1)\n",
    "    # Select an arbitrary integer e with 1 < e < phi and gcd(e,phi) == 1\n",
    "    e = encrypt_pow(phi_N)\n",
    "    # Compute the integer d statisfying 1 < d < phi and e*d == 1 mod phi\n",
    "    d = inverse_rsa(e, phi_N)\n",
    "    # Return n e d\n",
    "    print(\"Public Key: \" ,e)\n",
    "    print(\"Private Key: \" ,d)\n",
    "    print(\"N =\",N)\n",
    "    return(p,q,N,phi_N,e,d)"
   ]
  },
  {
   "cell_type": "code",
   "execution_count": 7,
   "metadata": {},
   "outputs": [
    {
     "data": {
      "text/plain": [
       "1059755015600927137567066027083281716411542081080556558775129937888706700351506844678565879"
      ]
     },
     "execution_count": 7,
     "metadata": {},
     "output_type": "execute_result"
    }
   ],
   "source": [
    "prime_gen(600)"
   ]
  },
  {
   "cell_type": "code",
   "execution_count": 482,
   "metadata": {},
   "outputs": [
    {
     "name": "stdout",
     "output_type": "stream",
     "text": [
      "Public Key:  1876205324478243827\n",
      "Private Key:  3699851857851622175\n",
      "N = 10078627333082037833\n"
     ]
    },
    {
     "data": {
      "text/plain": [
       "(3598116187,\n",
       " 2801084459,\n",
       " 10078627333082037833,\n",
       " 10078627326682837188,\n",
       " 1876205324478243827,\n",
       " 3699851857851622175)"
      ]
     },
     "execution_count": 482,
     "metadata": {},
     "output_type": "execute_result"
    }
   ],
   "source": [
    "Key_Generation(64)"
   ]
  },
  {
   "cell_type": "markdown",
   "metadata": {},
   "source": [
    "RSA Encryption Scheme\n",
    "\n",
    "Input: The plaintext m,the RSA public key e and n\n",
    "    \n",
    "Output: The ciphertext c\n",
    "    \n",
    "1. Compute c = m^e mod n\n",
    "2. Return(c)"
   ]
  },
  {
   "cell_type": "code",
   "execution_count": 15,
   "metadata": {},
   "outputs": [],
   "source": [
    "'''\n",
    "Input: Encrypt a message m, with public key e using modulus N\n",
    "Output: Return the ciphertext : c=m^e modN\n",
    "'''\n",
    "\n",
    "def encryption(N,e,m):\n",
    "    \n",
    "    return (expm(m, e, N))"
   ]
  },
  {
   "cell_type": "code",
   "execution_count": 14,
   "metadata": {},
   "outputs": [],
   "source": [
    "\n",
    "'''\n",
    "Input: Decrypt a received cipher c, with private key d using modulus N\n",
    "Output: Return the plaintexnt : m=c^d modN\n",
    "'''\n",
    "\n",
    "def decryption(N,d,c):\n",
    "    return expm(c, d, N)\n",
    "    \n"
   ]
  },
  {
   "cell_type": "markdown",
   "metadata": {},
   "source": [
    "https://www.youtube.com/watch?v=EHUgNLN8F1Y\n",
    "    FOR SQUARE AND MULTIPLY"
   ]
  },
  {
   "cell_type": "code",
   "execution_count": 486,
   "metadata": {},
   "outputs": [],
   "source": [
    "'''\n",
    "We use the square and multiply method to do the modular exponentiation\n",
    "Returns: x**y modulo z.\n",
    "\n",
    "'''\n",
    "def ex(x, y,z):\n",
    "    exp = bin(y)\n",
    "    value = x\n",
    " \n",
    "    for i in range(3, len(exp)):\n",
    "        value = (value * value) %z\n",
    "        if(exp[i:i+1]=='1'):\n",
    "            value = (value*x) % z\n",
    "    return value "
   ]
  },
  {
   "cell_type": "code",
   "execution_count": 10,
   "metadata": {},
   "outputs": [],
   "source": [
    "'''\n",
    "We use the square and multiply method to do the modular exponentiation\n",
    "Return: a**k modulo N.\n",
    "'''\n",
    "\n",
    "def expm(a, k, N):\n",
    "    r = 1\n",
    "    bits = list(bin(k)[2:])\n",
    "    for bit in bits:\n",
    "        r = (r * r) % N\n",
    "        if int(bit) == 1:\n",
    "            r = (r * a) % N\n",
    "    return r"
   ]
  },
  {
   "cell_type": "code",
   "execution_count": 353,
   "metadata": {},
   "outputs": [
    {
     "data": {
      "text/plain": [
       "1"
      ]
     },
     "execution_count": 353,
     "metadata": {},
     "output_type": "execute_result"
    }
   ],
   "source": [
    "expm(3,200,50)"
   ]
  },
  {
   "cell_type": "markdown",
   "metadata": {},
   "source": [
    "### Convert string into number"
   ]
  },
  {
   "cell_type": "code",
   "execution_count": 2,
   "metadata": {},
   "outputs": [],
   "source": [
    "strg = 'hey'\n",
    "i = int.from_bytes(strg.encode('utf-8'), byteorder='big')"
   ]
  },
  {
   "cell_type": "markdown",
   "metadata": {},
   "source": [
    "### Convert number into string"
   ]
  },
  {
   "cell_type": "code",
   "execution_count": 3,
   "metadata": {},
   "outputs": [],
   "source": [
    "s = int.to_bytes(i, length=len(strg), byteorder='big').decode('utf-8')\n"
   ]
  },
  {
   "cell_type": "markdown",
   "metadata": {},
   "source": [
    "RSA Decryption Scheme\n",
    "\n",
    "Input:The ciphertext c,the RSA private key d, and  N\n",
    "    \n",
    "Output: The plaintext m\n",
    "    \n",
    "1. Compute m = c**d mod n\n",
    "2. Return(m)"
   ]
  },
  {
   "cell_type": "markdown",
   "metadata": {},
   "source": [
    "Decrypt and get the original message (plaintext)"
   ]
  },
  {
   "cell_type": "markdown",
   "metadata": {},
   "source": [
    "(iv) Signature with Full-Domain Hash"
   ]
  },
  {
   "cell_type": "code",
   "execution_count": 11,
   "metadata": {},
   "outputs": [],
   "source": [
    "#Hash the messagewith SHA-256\n",
    "\n",
    "'''\n",
    "Input : message (the plaintext)\n",
    "Output : The hashed message\n",
    "Procedure : To generate a signature, make a hash from the plaintext, \n",
    "encrypt it with your private key, include it alongside the plaintext.\n",
    "'''\n",
    "\n",
    "\n",
    "\n",
    "def hashFunction(message):\n",
    "    hashed = sha256(message.encode(\"UTF-8\")).hexdigest()\n",
    "    return hashed\n"
   ]
  },
  {
   "cell_type": "code",
   "execution_count": 12,
   "metadata": {},
   "outputs": [],
   "source": [
    "#Authentication Procedure\n",
    "\n",
    "'''\n",
    "Input : receivedeHash (the hash we received after decryption),message (the plaintext)\n",
    "Output : The result of verification \n",
    "\n",
    "Procedure : Make a hash from the plaintext (ourHashed), decrypt the signature \n",
    "with the sender's public key (decrypted_msg),\n",
    "check that both hashes are the same (receivedHash ~ ourHashed)\n",
    "'''\n",
    "\n",
    "\n",
    "\n",
    "def verify(receivedHash, message):\n",
    "    Hash_it = hashFunction(message)\n",
    "    ourHash = int.from_bytes(Hash_it.encode('utf-8'), byteorder='big')\n",
    "    if receivedHash == ourHash:\n",
    "        print(1)\n",
    "        print(\"Authentication successful: \", )\n",
    "        print(receivedHash, \" = \", ourHash)\n",
    "    else:\n",
    "        print(0)\n",
    "        print(\"Authentication failed\")\n",
    "        print(receivedHash, \" != \", ourHash)\n",
    "    \n"
   ]
  },
  {
   "cell_type": "markdown",
   "metadata": {},
   "source": [
    "Main function\n",
    "\n",
    "Input : Number of bits which define the bitlength (bits), the plaintext (message)\n",
    "Output : The public-private generated key pair, the encrypted-decrypted message, the results of the verification process\n",
    "\n"
   ]
  },
  {
   "cell_type": "code",
   "execution_count": 22,
   "metadata": {},
   "outputs": [
    {
     "name": "stdout",
     "output_type": "stream",
     "text": [
      "Specify the number of bits for the prime generation:3000\n",
      "Enter a message to encrypt with your private key: RSA is one of the first public-key cryptosystems and is widely used for secure data transmission. In such a cryptosystem, the encryption key is public and it is different from the decryption key which is kept secret (private).\n",
      "\n",
      "Public Key:  287716339900128506239603534246923755985453372178402070861117484315993038306072975254225688714382813653979465273792692538856586545877122903754131747048388781294512917590136699539441945399227938269693261606551348965897075600730943788163482995653755234358514141846381568836226286729838504171718674050076249678934207845326032785823008728894072821761733793416366236317734874511080744387898460324647908272327464355139301262382619628165282057486095876389179559910589704091637119227268672058813088415481522166573662308195368034480464635770689492652888709945699717770745182723057741454263079050404338921185291036032181596380479638846558251216971085051332805661035537173453720941405593570526975009235651264228284704634305619479956567263876757565225606184597183236797035189877872746278262366270923221321572567850338492569162549628623261706083831713530741413152381973538459301827091899577762797700948861278851857745\n",
      "\n",
      "Private Key:  578678033090147330315337088870135861002043989695264969042082319290967443749548180765500427150587044325205010632437335221637185215450261910727157344460862527702352605294997579737594633477514973362020301296438617237309408368440640408556209068142077525291903831634797032663626221949833719039640721519366321802315569080352948835842231609381893419346324255455997013673884610418235673124210013432745082945825104924383186097311445649621637474207673709447945973946063330753720535329011261410658997577636196325543639763757834054599973615655335514644938424069860019286215674392779745982889812875430184720464712023698478825347534667958356395481681612431148921761669648198915465524626227640236709932947533473485826174033705896349523563672459735765501995388239674422167611781949142232773884073453495622482503560321452962578513561254318156172921920899356345667456177033279116759187412216238350144359695777124442831089\n",
      "\n",
      "N = 1102617382661296529524662317485743169821902404615542299317367063633687097307829197589637319159334157295256130936680647301260320716577370504761281135229206260658593062012316994750858093287027260796203028151919448502245178563846655958923038960729834220502149062378056964252576360008821299598476703299882007800270308752808629859939840798633703893587707596187462437967088955650327568621737853479326168200464896660294882185404122427712498735992297250107682456204153117747992441892618981618007775386586599352064372370517281855273287321683209423192531031545108825903351167022474405653402797384105825177246052859918015719202547677856129753324961011625435774992800029568945192887705591542646857431004719694225818474068485969242894991332903686882601325315680991205208246235574030485315581348946645744956339712360566918905877301579623111222007500856683180680838725700780750069027577760449227176162561975052680922349\n",
      "\n",
      "The encrypted message with public key e = 287716339900128506239603534246923755985453372178402070861117484315993038306072975254225688714382813653979465273792692538856586545877122903754131747048388781294512917590136699539441945399227938269693261606551348965897075600730943788163482995653755234358514141846381568836226286729838504171718674050076249678934207845326032785823008728894072821761733793416366236317734874511080744387898460324647908272327464355139301262382619628165282057486095876389179559910589704091637119227268672058813088415481522166573662308195368034480464635770689492652888709945699717770745182723057741454263079050404338921185291036032181596380479638846558251216971085051332805661035537173453720941405593570526975009235651264228284704634305619479956567263876757565225606184597183236797035189877872746278262366270923221321572567850338492569162549628623261706083831713530741413152381973538459301827091899577762797700948861278851857745 is\n",
      "\n",
      "c =  428398239772819389950760306014665365137443461320129411407016487273536174201560624317450009999628504084364248284374934054070780760877351439514507043825976082167898337711529403638309837474473707960860543655768290204804781706380821974056090012143911451305200828477092448189701042462277730527738300798986527478264830252307692488868906077031804256845455760179862838193633627808231250620301391519666719719042637828029602012411768462547463949757193052129730654668628658725006789281065815662216462828762141476680657857922987576069368241513290830170774238293810811856741942254287377732326250575065338342732590042443846727945456191579080302070137421852242747025939203889573553780539943313532676849211132681731697592379708865792498918881869383312255395631862787639782609952897151979993277899986290264525182400772728560439792207729546403834360571837466626459764794698409969602573598491513880863944914579761799250183\n",
      "\n",
      "The dectrypted message with private key d = 578678033090147330315337088870135861002043989695264969042082319290967443749548180765500427150587044325205010632437335221637185215450261910727157344460862527702352605294997579737594633477514973362020301296438617237309408368440640408556209068142077525291903831634797032663626221949833719039640721519366321802315569080352948835842231609381893419346324255455997013673884610418235673124210013432745082945825104924383186097311445649621637474207673709447945973946063330753720535329011261410658997577636196325543639763757834054599973615655335514644938424069860019286215674392779745982889812875430184720464712023698478825347534667958356395481681612431148921761669648198915465524626227640236709932947533473485826174033705896349523563672459735765501995388239674422167611781949142232773884073453495622482503560321452962578513561254318156172921920899356345667456177033279116759187412216238350144359695777124442831089 is\n",
      "\n",
      "RSA is one of the first public-key cryptosystems and is widely used for secure data transmission. In such a cryptosystem, the encryption key is public and it is different from the decryption key which is kept secret (private).\n",
      "\n",
      "Encrypting message with private key d =  578678033090147330315337088870135861002043989695264969042082319290967443749548180765500427150587044325205010632437335221637185215450261910727157344460862527702352605294997579737594633477514973362020301296438617237309408368440640408556209068142077525291903831634797032663626221949833719039640721519366321802315569080352948835842231609381893419346324255455997013673884610418235673124210013432745082945825104924383186097311445649621637474207673709447945973946063330753720535329011261410658997577636196325543639763757834054599973615655335514644938424069860019286215674392779745982889812875430184720464712023698478825347534667958356395481681612431148921761669648198915465524626227640236709932947533473485826174033705896349523563672459735765501995388239674422167611781949142232773884073453495622482503560321452962578513561254318156172921920899356345667456177033279116759187412216238350144359695777124442831089  . . .\n",
      "Your signature is : tag =\n",
      "69554846270987315337507128209694985663165649945772911557344830773155164676407169282265189366168881498098911455679383378375499880829822963705546131686211372100316962905169601947808841737932056241996578451698591879178815057828520192833962992994104618670500614515184326462104655009754986509215072689218345844007538726423441437631315137848336526498697465717646229398142774115783184448565791650765730576363492363181763766584057710787041124705416337730770265574455789760993447093613889337155546160567241019530798007857793739817989169896095168613182488297395792488166833686262370721624238855851742777336443723063325031267386709242431395534966971845663331857104831796366293665210400155845963075260027683568364733835290515765973449176302057422469455759165902911321891373796175669996327127779475012860931535302937658949414504173514883374401937046687736395567099571129018149395791766393053123451619876358813774483\n",
      "\n",
      "Decrypting message with public key e =  287716339900128506239603534246923755985453372178402070861117484315993038306072975254225688714382813653979465273792692538856586545877122903754131747048388781294512917590136699539441945399227938269693261606551348965897075600730943788163482995653755234358514141846381568836226286729838504171718674050076249678934207845326032785823008728894072821761733793416366236317734874511080744387898460324647908272327464355139301262382619628165282057486095876389179559910589704091637119227268672058813088415481522166573662308195368034480464635770689492652888709945699717770745182723057741454263079050404338921185291036032181596380479638846558251216971085051332805661035537173453720941405593570526975009235651264228284704634305619479956567263876757565225606184597183236797035189877872746278262366270923221321572567850338492569162549628623261706083831713530741413152381973538459301827091899577762797700948861278851857745  . . .\n",
      "Your decrypted message is: tag =\n",
      "5143562095290045369404561511587114621500792432118968750002934526671284204669733418185042325721064542199251338849844672105513504151907338976368952533463857\n",
      "\n",
      "Verification results~\n"
     ]
    },
    {
     "name": "stdout",
     "output_type": "stream",
     "text": [
      "Enter a message to encrypt with your private key: RSA is one of the first public-key cryptosystems and is widely used for secure data transmission. In such a cryptosystem, the encryption key is public and it is different from the decryption key which is kept secret (private).\n",
      "1\n",
      "Authentication successful: \n",
      "5143562095290045369404561511587114621500792432118968750002934526671284204669733418185042325721064542199251338849844672105513504151907338976368952533463857  =  5143562095290045369404561511587114621500792432118968750002934526671284204669733418185042325721064542199251338849844672105513504151907338976368952533463857\n"
     ]
    }
   ],
   "source": [
    "def main():\n",
    "    bits = int(input(\"Specify the number of bits for the prime generation:\"))\n",
    "    message = str(input(\"Enter a message to encrypt with your private key: \"))\n",
    "    decoded_message = int.from_bytes(message.encode('utf-8'), byteorder='big')\n",
    "    #Prime Generation,private and public key\n",
    "    p = prime_gen(bits)\n",
    "    q = prime_gen(bits)\n",
    "    N = p * q\n",
    "    phi_N = (p - 1) * (q - 1)\n",
    "    e = encrypt_pow(phi_N)\n",
    "    d = inverse_rsa(e, phi_N)\n",
    "    print(\"\")\n",
    "    print(\"Public Key: \" ,e)\n",
    "    print(\"\")\n",
    "    print(\"Private Key: \" ,d)\n",
    "    print(\"\")\n",
    "    print(\"N =\",N)\n",
    "    #Encryption and Decryption\n",
    "    c = encryption(N,e,decoded_message)\n",
    "    print(\"\")\n",
    "    print(\"The encrypted message with public key e =\",e,\"is\")\n",
    "    print(\"\")\n",
    "    print(\"c = \",c)\n",
    "    print(\"\")\n",
    "    print(\"The dectrypted message with private key d =\",d,\"is\")\n",
    "    print(\"\")\n",
    "    dec = decryption(N,d,c)\n",
    "    print(int.to_bytes(dec, length=len(message), byteorder='big').decode('utf-8'))  \n",
    "    #Sign the message and verify\n",
    "    hashed = hashFunction(message)\n",
    "    enc = int.from_bytes(hashed.encode('utf-8'), byteorder='big')\n",
    "    print(\"\")\n",
    "    print(\"Encrypting message with private key d = \", d ,\" . . .\")\n",
    "    encrypted_msg = encryption(N,d,enc)  \n",
    "    print(\"Your signature is : tag =\")\n",
    "    print(encrypted_msg)\n",
    "    print(\"\")\n",
    "    print(\"Decrypting message with public key e = \", e ,\" . . .\")\n",
    "    decrypted_msg = decryption(N,e,encrypted_msg)\n",
    "    print(\"Your decrypted message is: tag =\")  \n",
    "    print(decrypted_msg)\n",
    "    print(\"\")\n",
    "    print(\"Verification results~\")\n",
    "    message = str(input(\"Enter a message to encrypt with your private key: \"))\n",
    "    verify(decrypted_msg, message)\n",
    "\n",
    "\n",
    "main()    "
   ]
  },
  {
   "cell_type": "code",
   "execution_count": null,
   "metadata": {},
   "outputs": [],
   "source": []
  },
  {
   "cell_type": "code",
   "execution_count": null,
   "metadata": {},
   "outputs": [],
   "source": []
  },
  {
   "cell_type": "code",
   "execution_count": null,
   "metadata": {},
   "outputs": [],
   "source": []
  },
  {
   "cell_type": "code",
   "execution_count": null,
   "metadata": {},
   "outputs": [],
   "source": []
  },
  {
   "cell_type": "code",
   "execution_count": null,
   "metadata": {},
   "outputs": [],
   "source": []
  },
  {
   "cell_type": "code",
   "execution_count": null,
   "metadata": {},
   "outputs": [],
   "source": []
  }
 ],
 "metadata": {
  "kernelspec": {
   "display_name": "Python 3",
   "language": "python",
   "name": "python3"
  },
  "language_info": {
   "codemirror_mode": {
    "name": "ipython",
    "version": 3
   },
   "file_extension": ".py",
   "mimetype": "text/x-python",
   "name": "python",
   "nbconvert_exporter": "python",
   "pygments_lexer": "ipython3",
   "version": "3.7.1"
  }
 },
 "nbformat": 4,
 "nbformat_minor": 2
}
